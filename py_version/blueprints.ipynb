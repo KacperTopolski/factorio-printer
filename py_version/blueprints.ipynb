{
 "cells": [
  {
   "cell_type": "code",
   "execution_count": 1,
   "metadata": {},
   "outputs": [],
   "source": [
    "from py_factorio_blueprints import *\n",
    "Blueprint.import_prototype_data('/home/kacper/.local/lib/python3.10/site-packages/py_factorio_blueprints/entity_data.json')\n"
   ]
  },
  {
   "cell_type": "code",
   "execution_count": 2,
   "metadata": {},
   "outputs": [],
   "source": [
    "X='0eNrNldtOwzAMht/F19mkHnYgEk+CpqoHb1i0SeW6E9XUB+BBeDGehKRFU0HbGIMLbioltX873++0B8jKFmsmI6APQLk1DeiHAzS0M2np96SrETSQYAUKTFr5VYE5Fciz3FYZmVQsQ6+ATIHPoINefSvgC0lq5LRC2G8UoBESwrGfYdElpq0yZFfiopCC2jYu1xpf33cULeYLBR3o2Xq+cHUKYszHgFB5DWFbJhk+pntyAi5rS6Ugn4GxJ5bW7Ry7GCNmWZnmT/4cuW090WDCZDNsGzPWbbxa4B87RjTTM1IBOnKxxHlLMix9du+pfsEQ/hTD8k8xfLa0EWtwcvhZMPHzmomoazdRlvEkwPgsQMbiK774OnzRpXm+NESrz+zi0+w+RBP3rqBjz1viRpJbRmp0eIDi+qxTHvrU8Pby6tJsK3V7m3DdJQPvZMu2Ssg4HdDbtGyw/8XQhhPiowvqO5MUhL+9EvEPPV3+T0/vb3AU98idPJLZXbBVuD3r6ombNHyJr/fDBQ+3Wk/+KwpcX834kVkH8eouXK3W0TqKln3/Dl8rOes='\n"
   ]
  },
  {
   "cell_type": "code",
   "execution_count": 3,
   "metadata": {},
   "outputs": [
    {
     "name": "stdout",
     "output_type": "stream",
     "text": [
      "BEFORE NAME\n",
      "TROLLING TIME\n",
      "AFTER NAME\n",
      "BEFORE NAME\n",
      "TROLLING TIME\n",
      "AFTER NAME\n",
      "BEFORE NAME\n",
      "TROLLING TIME\n",
      "AFTER NAME\n",
      "ControlBehavior in Decider () {'_entity': <Entity (name: \"decider-combinator\", position: <Vector (135.5, -7)>, direction: 4)>, 'decider_conditions': {'first_signal': {'type': 'virtual', 'name': 'signal-black'}, 'constant': 1, 'comparator': '≥', 'output_signal': {'type': 'virtual', 'name': 'signal-black'}, 'copy_count_from_input': False}}\n",
      "_entity.TYPE='decider', self.__field='decider_conditions'\n",
      "ControlBehavior in Decider post pop () {'_entity': <Entity (name: \"decider-combinator\", position: <Vector (135.5, -7)>, direction: 4)>}\n",
      "ControlBehavior in Combinator () {'_entity': <Entity (name: \"decider-combinator\", position: <Vector (135.5, -7)>, direction: 4)>, 'decider_conditions': {'first_signal': {'type': 'virtual', 'name': 'signal-black'}, 'constant': 1, 'comparator': '≥', 'output_signal': {'type': 'virtual', 'name': 'signal-black'}}}\n",
      "BEFORE NAME\n",
      "TROLLING TIME\n",
      "AFTER NAME\n",
      "ControlBehavior in Decider () {'_entity': <Entity (name: \"decider-combinator\", position: <Vector (136.5, -7)>, direction: 4)>, 'decider_conditions': {'first_signal': {'type': 'virtual', 'name': 'signal-black'}, 'constant': 1, 'comparator': '=', 'output_signal': {'type': 'virtual', 'name': 'signal-everything'}, 'copy_count_from_input': True}}\n",
      "_entity.TYPE='decider', self.__field='decider_conditions'\n",
      "ControlBehavior in Decider post pop () {'_entity': <Entity (name: \"decider-combinator\", position: <Vector (136.5, -7)>, direction: 4)>}\n",
      "ControlBehavior in Combinator () {'_entity': <Entity (name: \"decider-combinator\", position: <Vector (136.5, -7)>, direction: 4)>, 'decider_conditions': {'first_signal': {'type': 'virtual', 'name': 'signal-black'}, 'constant': 1, 'comparator': '=', 'output_signal': {'type': 'virtual', 'name': 'signal-everything'}}}\n"
     ]
    },
    {
     "data": {
      "text/plain": [
       "<py_factorio_blueprints.blueprint.Blueprint at 0x7f71bc0f1750>"
      ]
     },
     "execution_count": 3,
     "metadata": {},
     "output_type": "execute_result"
    }
   ],
   "source": [
    "blu = blueprint.Blueprint(string=X)\n",
    "blu\n"
   ]
  },
  {
   "cell_type": "code",
   "execution_count": 14,
   "metadata": {},
   "outputs": [
    {
     "data": {
      "text/plain": [
       "'{\"blueprint\": {\"item\": \"blueprint\", \"entities\": [{\"entity_number\": 1, \"name\": \"constant-combinator\", \"position\": {\"x\": 135.5, \"y\": -8.5}, \"connections\": {\"1\": {\"green\": [{\"entity_id\": 3, \"circuit_id\": 1}]}}, \"direction\": 2, \"control_behavior\": {\"filters\": [{\"signal\": {\"name\": \"signal-black\", \"type\": \"virtual\"}, \"count\": 1, \"index\": 1}]}}, {\"entity_number\": 2, \"name\": \"constant-combinator\", \"position\": {\"x\": 136.5, \"y\": -8.5}, \"connections\": {\"1\": {\"red\": [{\"entity_id\": 4, \"circuit_id\": 1}]}}, \"direction\": 2, \"control_behavior\": {\"filters\": [{\"signal\": {\"name\": \"stone\", \"type\": \"item\"}, \"count\": -1, \"index\": 2}, {\"signal\": {\"name\": \"copper-ore\", \"type\": \"item\"}, \"count\": 1, \"index\": 4}]}}, {\"entity_number\": 3, \"name\": \"decider-combinator\", \"position\": {\"x\": 135.5, \"y\": -7}, \"connections\": {\"1\": {\"green\": [{\"entity_id\": 1}, {\"entity_id\": 3, \"circuit_id\": 2}, {\"entity_id\": 4, \"circuit_id\": 1}]}, \"2\": {\"green\": [{\"entity_id\": 3, \"circuit_id\": 2}]}}, \"direction\": 4, \"control_behavior\": {\"decider_conditions\": {\"comparator\": \"\\\\u2265\", \"constant\": 1, \"output_signal\": {\"name\": \"signal-black\", \"type\": \"virtual\"}, \"copy_count_from_input\": false}}}, {\"entity_number\": 4, \"name\": \"decider-combinator\", \"position\": {\"x\": 136.5, \"y\": -7}, \"connections\": {\"1\": {\"red\": [{\"entity_id\": 2}], \"green\": [{\"entity_id\": 3, \"circuit_id\": 1}]}}, \"direction\": 4, \"control_behavior\": {\"decider_conditions\": {\"comparator\": \"=\", \"constant\": 1, \"output_signal\": {\"name\": \"signal-everything\", \"type\": \"virtual\"}, \"copy_count_from_input\": true}}}], \"icons\": [{\"index\": 1, \"signal\": {\"name\": \"decider-combinator\", \"type\": \"item\"}}, {\"index\": 2, \"signal\": {\"name\": \"constant-combinator\", \"type\": \"item\"}}], \"version\": 281479277838336}}'"
      ]
     },
     "execution_count": 14,
     "metadata": {},
     "output_type": "execute_result"
    }
   ],
   "source": [
    "blu.to_json_string()\n"
   ]
  },
  {
   "cell_type": "code",
   "execution_count": 15,
   "metadata": {},
   "outputs": [
    {
     "data": {
      "text/plain": [
       "{'blueprint': {'icons': [{'signal': {'type': 'item',\n",
       "     'name': 'decider-combinator'},\n",
       "    'index': 1},\n",
       "   {'signal': {'type': 'item', 'name': 'constant-combinator'}, 'index': 2}],\n",
       "  'entities': [{'entity_number': 1,\n",
       "    'name': 'constant-combinator',\n",
       "    'position': {'x': 135.5, 'y': -8.5},\n",
       "    'direction': 2,\n",
       "    'control_behavior': {'filters': [{'signal': {'type': 'virtual',\n",
       "        'name': 'signal-black'},\n",
       "       'count': 1,\n",
       "       'index': 1}]},\n",
       "    'connections': {'1': {'green': [{'entity_id': 3, 'circuit_id': 1}]}}},\n",
       "   {'entity_number': 2,\n",
       "    'name': 'constant-combinator',\n",
       "    'position': {'x': 136.5, 'y': -8.5},\n",
       "    'direction': 2,\n",
       "    'control_behavior': {'filters': [{'signal': {'type': 'item',\n",
       "        'name': 'stone'},\n",
       "       'count': -1,\n",
       "       'index': 2},\n",
       "      {'signal': {'type': 'item', 'name': 'copper-ore'},\n",
       "       'count': 1,\n",
       "       'index': 4}]},\n",
       "    'connections': {'1': {'red': [{'entity_id': 4, 'circuit_id': 1}]}}},\n",
       "   {'entity_number': 3,\n",
       "    'name': 'decider-combinator',\n",
       "    'position': {'x': 135.5, 'y': -7},\n",
       "    'direction': 4,\n",
       "    'control_behavior': {'decider_conditions': {'first_signal': {'type': 'virtual',\n",
       "       'name': 'signal-black'},\n",
       "      'constant': 1,\n",
       "      'comparator': '≥',\n",
       "      'output_signal': {'type': 'virtual', 'name': 'signal-black'},\n",
       "      'copy_count_from_input': False}},\n",
       "    'connections': {'1': {'green': [{'entity_id': 3, 'circuit_id': 2},\n",
       "       {'entity_id': 1},\n",
       "       {'entity_id': 4, 'circuit_id': 1}]},\n",
       "     '2': {'green': [{'entity_id': 3, 'circuit_id': 1}]}}},\n",
       "   {'entity_number': 4,\n",
       "    'name': 'decider-combinator',\n",
       "    'position': {'x': 136.5, 'y': -7},\n",
       "    'direction': 4,\n",
       "    'control_behavior': {'decider_conditions': {'first_signal': {'type': 'virtual',\n",
       "       'name': 'signal-black'},\n",
       "      'constant': 1,\n",
       "      'comparator': '=',\n",
       "      'output_signal': {'type': 'virtual', 'name': 'signal-everything'},\n",
       "      'copy_count_from_input': True}},\n",
       "    'connections': {'1': {'red': [{'entity_id': 2}],\n",
       "      'green': [{'entity_id': 3, 'circuit_id': 1}]}}}],\n",
       "  'item': 'blueprint',\n",
       "  'version': 281479277838336}}"
      ]
     },
     "execution_count": 15,
     "metadata": {},
     "output_type": "execute_result"
    }
   ],
   "source": [
    "util.decode(X)\n"
   ]
  },
  {
   "cell_type": "code",
   "execution_count": null,
   "metadata": {},
   "outputs": [],
   "source": [
    "S={'blueprint': {'icons': [{'signal': {'type': 'item',\n",
    "     'name': 'decider-combinator'},\n",
    "    'index': 1},\n",
    "   {'signal': {'type': 'item', 'name': 'constant-combinator'}, 'index': 2}],\n",
    "  'entities': [{'entity_number': 1,\n",
    "    'name': 'constant-combinator',\n",
    "    'position': {'x': 135.5, 'y': -8.5},\n",
    "    'direction': 2,\n",
    "    'control_behavior': {'filters': [{'signal': {'type': 'virtual',\n",
    "        'name': 'signal-black'},\n",
    "       'count': 1,\n",
    "       'index': 1}]},\n",
    "    'connections': {'1': {'green': [{'entity_id': 3, 'circuit_id': 1}]}}},\n",
    "   {'entity_number': 2,\n",
    "    'name': 'constant-combinator',\n",
    "    'position': {'x': 136.5, 'y': -8.5},\n",
    "    'direction': 2,\n",
    "    'control_behavior': {'filters': [{'signal': {'type': 'item',\n",
    "        'name': 'stone'},\n",
    "       'count': -1,\n",
    "       'index': 2},\n",
    "      {'signal': {'type': 'item', 'name': 'copper-ore'},\n",
    "       'count': 1,\n",
    "       'index': 4}]},\n",
    "    'connections': {'1': {'red': [{'entity_id': 4, 'circuit_id': 1}]}}},\n",
    "   {'entity_number': 3,\n",
    "    'name': 'decider-combinator',\n",
    "    'position': {'x': 135.5, 'y': -7},\n",
    "    'direction': 4,\n",
    "    'control_behavior': {'decider_conditions': {'first_signal': {'type': 'virtual',\n",
    "       'name': 'signal-black'},\n",
    "      'constant': 1,\n",
    "      'comparator': '≥',\n",
    "      'output_signal': {'type': 'virtual', 'name': 'signal-black'},\n",
    "      'copy_count_from_input': False}},\n",
    "    'connections': {'1': {'green': [{'entity_id': 3, 'circuit_id': 2},\n",
    "       {'entity_id': 1},\n",
    "       {'entity_id': 4, 'circuit_id': 1}]},\n",
    "     '2': {'green': [{'entity_id': 3, 'circuit_id': 1}]}}},\n",
    "   {'entity_number': 4,\n",
    "    'name': 'decider-combinator',\n",
    "    'position': {'x': 136.5, 'y': -7},\n",
    "    'direction': 4,\n",
    "    'control_behavior': {'decider_conditions': {'first_signal': {'type': 'virtual',\n",
    "       'name': 'signal-black'},\n",
    "      'constant': 1,\n",
    "      'comparator': '=',\n",
    "      'output_signal': {'type': 'virtual', 'name': 'signal-everything'},\n",
    "      'copy_count_from_input': True}},\n",
    "    'connections': {'1': {'red': [{'entity_id': 2}],\n",
    "      'green': [{'entity_id': 3, 'circuit_id': 1}]}}}],\n",
    "  'item': 'blueprint'}}\n"
   ]
  },
  {
   "cell_type": "code",
   "execution_count": null,
   "metadata": {},
   "outputs": [],
   "source": [
    "S['blueprint']['entities'][1]['control_behavior']['filters']\n"
   ]
  },
  {
   "cell_type": "code",
   "execution_count": null,
   "metadata": {},
   "outputs": [],
   "source": [
    "x=S['blueprint']['entities'][1]['control_behavior']['filters']\n"
   ]
  }
 ],
 "metadata": {
  "kernelspec": {
   "display_name": "Python 3",
   "language": "python",
   "name": "python3"
  },
  "language_info": {
   "codemirror_mode": {
    "name": "ipython",
    "version": 3
   },
   "file_extension": ".py",
   "mimetype": "text/x-python",
   "name": "python",
   "nbconvert_exporter": "python",
   "pygments_lexer": "ipython3",
   "version": "3.10.6"
  }
 },
 "nbformat": 4,
 "nbformat_minor": 2
}
