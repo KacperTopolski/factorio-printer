{
 "cells": [
  {
   "cell_type": "code",
   "execution_count": null,
   "metadata": {},
   "outputs": [
    {
     "ename": "",
     "evalue": "",
     "output_type": "error",
     "traceback": [
      "\u001b[1;31mFailed to start the Kernel. \n",
      "\u001b[1;31mView Jupyter <a href='command:jupyter.viewOutput'>log</a> for further details."
     ]
    }
   ],
   "source": [
    "from py_factorio_blueprints.util import *\n",
    "from PIL import Image, ImagePalette\n",
    "from collections import defaultdict\n"
   ]
  },
  {
   "cell_type": "code",
   "execution_count": null,
   "metadata": {},
   "outputs": [
    {
     "ename": "",
     "evalue": "",
     "output_type": "error",
     "traceback": [
      "\u001b[1;31mFailed to start the Kernel. \n",
      "\u001b[1;31mView Jupyter <a href='command:jupyter.viewOutput'>log</a> for further details."
     ]
    }
   ],
   "source": [
    "def get_avg_color(img):\n",
    "    sr, sg, sb, sa = 0, 0, 0, 0\n",
    "    # print([x for x in img.getdata()])\n",
    "    for r, g, b, a, in img.getdata():\n",
    "        sr += r * a;\n",
    "        sg += g * a\n",
    "        sb += b * a\n",
    "        sa += a\n",
    "    return sr // sa, sg // sa, sb // sa\n",
    "\n",
    "def color_dist(c1, c2):\n",
    "    return (c1[0] - c2[0]) ** 2 + (c1[1] - c2[1]) ** 2 + (c1[2] - c2[2]) ** 2\n"
   ]
  },
  {
   "cell_type": "code",
   "execution_count": null,
   "metadata": {},
   "outputs": [
    {
     "ename": "",
     "evalue": "",
     "output_type": "error",
     "traceback": [
      "\u001b[1;31mFailed to start the Kernel. \n",
      "\u001b[1;31mView Jupyter <a href='command:jupyter.viewOutput'>log</a> for further details."
     ]
    }
   ],
   "source": [
    "PATH = '/mnt/c/Program Files (x86)/Steam/steamapps/common/Factorio/data/base/graphics/icons'\n",
    "\n",
    "MATERIALS = [\n",
    "    'iron-plate',\n",
    "    'copper-plate',\n",
    "    'copper-ore',\n",
    "    'copper-cable',\n",
    "    'plastic-bar',\n",
    "    'assembling-machine-1',\n",
    "    'assembling-machine-2',\n",
    "    'assembling-machine-3',\n",
    "    'cliff-explosives',\n",
    "    'coal',\n",
    "    'concrete',\n",
    "    'effectivity-module',\n",
    "    'electronic-circuit',\n",
    "    'advanced-circuit',\n",
    "    'processing-unit',\n",
    "    'explosives',\n",
    "    'hazard-concrete',\n",
    "    'iron-chest',\n",
    "    'iron-ore',\n",
    "    'landfill',\n",
    "    'processing-unit',\n",
    "    'productivity-module',\n",
    "    'small-lamp',\n",
    "    'solid-fuel',\n",
    "    'sulfur',\n",
    "    'speed-module',\n",
    "    'stone',\n",
    "    'wall',\n",
    "    'steel-plate',\n",
    "    'steel-chest',\n",
    "    'stone-brick',\n",
    "    'wooden-chest',\n",
    "    'underground-belt',\n",
    "    'logistic-chest-active-provider',\n",
    "    'logistic-chest-passive-provider',\n",
    "    'logistic-chest-buffer',\n",
    "    'logistic-chest-requester',\n",
    "    'logistic-chest-storage',\n",
    "]\n",
    "COLORS = {}\n",
    "\n",
    "for name in MATERIALS:\n",
    "    img = Image.open(f\"{PATH}/{name}.png\").crop((0, 0, 64, 64)).convert(\"RGBA\")\n",
    "    COLORS[get_avg_color(img)] = name\n",
    "\n",
    "for (r, g, b), name in COLORS.items():\n",
    "    print(f'{{r: {r}, g: {g}, b: {b}, name: \"{name}\"}}, ')\n"
   ]
  },
  {
   "cell_type": "code",
   "execution_count": null,
   "metadata": {},
   "outputs": [
    {
     "ename": "",
     "evalue": "",
     "output_type": "error",
     "traceback": [
      "\u001b[1;31mFailed to start the Kernel. \n",
      "\u001b[1;31mView Jupyter <a href='command:jupyter.viewOutput'>log</a> for further details."
     ]
    }
   ],
   "source": [
    "def convert(image: Image, palette: list, W_ROUND=4, H=32):\n",
    "    width, height = image.size\n",
    "    width, height = (H * width) // (height * W_ROUND) * W_ROUND, H\n",
    "    image = image.resize((width, height))\n",
    "\n",
    "    data = [[None] * H for _ in range(width)]\n",
    "\n",
    "    for x in range(width):\n",
    "        for y in range(height):\n",
    "            c_orig = image.getpixel((x, y))\n",
    "            _, rgb = min((color_dist(c_orig, color), color) for color in palette)\n",
    "\n",
    "            image.putpixel((x, y), rgb)\n",
    "            data[x][y] = rgb\n",
    "\n",
    "    return image, data\n"
   ]
  },
  {
   "cell_type": "code",
   "execution_count": null,
   "metadata": {},
   "outputs": [
    {
     "ename": "",
     "evalue": "",
     "output_type": "error",
     "traceback": [
      "\u001b[1;31mFailed to start the Kernel. \n",
      "\u001b[1;31mView Jupyter <a href='command:jupyter.viewOutput'>log</a> for further details."
     ]
    }
   ],
   "source": [
    "cat = Image.open('../cat.jpg')\n",
    "cat, mp = convert(cat, COLORS.keys())\n",
    "cat.resize((cat.width * 8, cat.height * 8))\n"
   ]
  },
  {
   "cell_type": "code",
   "execution_count": null,
   "metadata": {},
   "outputs": [
    {
     "ename": "",
     "evalue": "",
     "output_type": "error",
     "traceback": [
      "\u001b[1;31mFailed to start the Kernel. \n",
      "\u001b[1;31mView Jupyter <a href='command:jupyter.viewOutput'>log</a> for further details."
     ]
    }
   ],
   "source": [
    "cat = Image.open('cat.jpg')\n",
    "cat.thumbnail((10**9, 32))\n",
    "\n",
    "cat.resize((cat.width * 8, cat.height * 8))\n"
   ]
  },
  {
   "cell_type": "code",
   "execution_count": null,
   "metadata": {},
   "outputs": [
    {
     "ename": "",
     "evalue": "",
     "output_type": "error",
     "traceback": [
      "\u001b[1;31mFailed to start the Kernel. \n",
      "\u001b[1;31mView Jupyter <a href='command:jupyter.viewOutput'>log</a> for further details."
     ]
    }
   ],
   "source": [
    "from futil import *\n",
    "import futil\n",
    "import importlib\n",
    "importlib.reload(futil)\n",
    "\n",
    "\n",
    "bl = Blueprint()\n",
    "\n",
    "bl.create_constant(0, 0)\n",
    "bl.create_decider(1, 0, 15)\n",
    "\n",
    "bl.add_connection(0, 0, Blueprint.CONN_CONSTANT, 1, 0, Blueprint.CONN_DECIDER_IN, 'green')\n",
    "bl.add_connection(1, 0, Blueprint.CONN_DECIDER_OUT, 1, 0, Blueprint.CONN_DECIDER_IN, 'green')\n",
    "\n",
    "bl.pr()\n"
   ]
  },
  {
   "cell_type": "code",
   "execution_count": null,
   "metadata": {},
   "outputs": [
    {
     "ename": "",
     "evalue": "",
     "output_type": "error",
     "traceback": [
      "\u001b[1;31mFailed to start the Kernel. \n",
      "\u001b[1;31mView Jupyter <a href='command:jupyter.viewOutput'>log</a> for further details."
     ]
    }
   ],
   "source": [
    "def generate_blueprint(data: list[list], palette: dict):\n",
    "    W = len(data)\n",
    "    assert W % 4 == 0 and all(len(col) == 32 for col in data)\n",
    "\n",
    "    bl = Blueprint()\n",
    "\n",
    "    for x, column in enumerate(data):\n",
    "        X = x // 4\n",
    "        C = [0 + 4 * (x % 4), 1 + 4 * (x % 4)]\n",
    "        D = 2 + 4 * (x % 4)\n",
    "\n",
    "        bl.create_constant(X, C[0])\n",
    "        bl.create_constant(X, C[1])\n",
    "        bl.create_decider (X, D, f_value=X + 1)\n",
    "\n",
    "        bl.add_connection(X, D, Blueprint.CONN_DECIDER_IN, X-1, D, Blueprint.CONN_DECIDER_IN, 'green', strict=False)\n",
    "        bl.add_connection(X, D, Blueprint.CONN_DECIDER_IN, X, D-4, Blueprint.CONN_DECIDER_IN, 'green', strict=False)\n",
    "        bl.add_connection(X, D, Blueprint.CONN_DECIDER_OUT, X-1, D, Blueprint.CONN_DECIDER_OUT, 'red', strict=False)\n",
    "\n",
    "        bl.add_connection(X, C[0], Blueprint.CONN_CONSTANT, X, C[1], Blueprint.CONN_CONSTANT, 'red')\n",
    "        bl.add_connection(X, C[1], Blueprint.CONN_CONSTANT, X, D, Blueprint.CONN_DECIDER_IN, 'red')\n",
    "\n",
    "        for y, rgb in enumerate(column):\n",
    "            item = palette[rgb]\n",
    "            bl.add_item(X, C[y % 2], item, (1 << y) * (1 if y < 31 else -1))\n",
    "\n",
    "    return bl\n"
   ]
  },
  {
   "cell_type": "code",
   "execution_count": 2,
   "metadata": {},
   "outputs": [
    {
     "data": {
      "text/plain": [
       "[{'entity_number': 1,\n",
       "  'name': 'logistic-chest-storage',\n",
       "  'position': {'x': 226.5, 'y': 307.5},\n",
       "  'request_filters': [{'index': 1, 'name': 'coal', 'count': 0}]},\n",
       " {'entity_number': 2,\n",
       "  'name': 'logistic-chest-buffer',\n",
       "  'position': {'x': 228.5, 'y': 307.5},\n",
       "  'request_filters': [{'index': 1, 'name': 'coal', 'count': 50}]}]"
      ]
     },
     "execution_count": 2,
     "metadata": {},
     "output_type": "execute_result"
    }
   ],
   "source": [
    "from futil import *\n",
    "\n",
    "S='0eNqlkeGKwjAQhN9lf0exqbW9vMoh0va2daFNarI5LCXvfklFkeNA5H6FDdmZbyYLNIPHyZJmUAtQa7QD9bmAo17XQ7rjeUJQQIwjCND1mKbB9OSY2k17Rscbx8bWPUIQQPoLr6CyIN4VaXzXoX3SkOEoADUTE96o1mE+aT828aXKXvEImIyL60YniCQpD9tCwAwq35XbInpZvPi4cupoYLQ3m3uGh3xrYgwRD5962oVjSvcLRr7I9QdL9X+WIsHEmtZm1dNvCviOEqubrLJ9+SHLssqrPD+E8ANkhqa6'\n",
    "Blueprint(string=S).entities\n"
   ]
  }
 ],
 "metadata": {
  "kernelspec": {
   "display_name": "Python 3 (ipykernel)",
   "language": "python",
   "name": "python3"
  },
  "language_info": {
   "codemirror_mode": {
    "name": "ipython",
    "version": 3
   },
   "file_extension": ".py",
   "mimetype": "text/x-python",
   "name": "python",
   "nbconvert_exporter": "python",
   "pygments_lexer": "ipython3",
   "version": "3.10.6"
  }
 },
 "nbformat": 4,
 "nbformat_minor": 2
}
