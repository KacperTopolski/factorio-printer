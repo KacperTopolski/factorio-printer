{
 "cells": [
  {
   "cell_type": "code",
   "execution_count": 8,
   "metadata": {},
   "outputs": [],
   "source": [
    "from py_factorio_blueprints.util import *\n",
    "from PIL import Image, ImagePalette\n",
    "from collections import defaultdict\n"
   ]
  },
  {
   "cell_type": "code",
   "execution_count": 10,
   "metadata": {},
   "outputs": [],
   "source": [
    "def get_avg_color(img):\n",
    "    sr, sg, sb, sa = 0, 0, 0, 0\n",
    "    # print([x for x in img.getdata()])\n",
    "    for r, g, b, a, in img.getdata():\n",
    "        sr += r * a;\n",
    "        sg += g * a\n",
    "        sb += b * a\n",
    "        sa += a\n",
    "    return sr // sa, sg // sa, sb // sa\n",
    "\n",
    "def color_dist(c1, c2):\n",
    "    return (c1[0] - c2[0]) ** 2 + (c1[1] - c2[1]) ** 2 + (c1[2] - c2[2]) ** 2\n"
   ]
  },
  {
   "cell_type": "code",
   "execution_count": 11,
   "metadata": {},
   "outputs": [
    {
     "name": "stdout",
     "output_type": "stream",
     "text": [
      "{r: 134, g: 134, b: 134, name: \"iron-plate\"}, \n",
      "{r: 179, g: 110, b: 87, name: \"copper-plate\"}, \n",
      "{r: 155, g: 85, b: 54, name: \"copper-ore\"}, \n",
      "{r: 180, g: 113, b: 88, name: \"copper-cable\"}, \n",
      "{r: 197, g: 197, b: 197, name: \"plastic-bar\"}, \n",
      "{r: 97, g: 81, b: 71, name: \"assembling-machine-1\"}, \n",
      "{r: 75, g: 74, b: 86, name: \"assembling-machine-2\"}, \n",
      "{r: 87, g: 91, b: 61, name: \"assembling-machine-3\"}, \n",
      "{r: 64, g: 107, b: 132, name: \"cliff-explosives\"}, \n",
      "{r: 44, g: 40, b: 36, name: \"coal\"}, \n",
      "{r: 118, g: 121, b: 122, name: \"concrete\"}, \n",
      "{r: 87, g: 121, b: 68, name: \"effectivity-module\"}, \n",
      "{r: 95, g: 136, b: 39, name: \"electronic-circuit\"}, \n",
      "{r: 169, g: 67, b: 41, name: \"advanced-circuit\"}, \n",
      "{r: 85, g: 104, b: 164, name: \"processing-unit\"}, \n",
      "{r: 132, g: 73, b: 64, name: \"explosives\"}, \n",
      "{r: 111, g: 109, b: 89, name: \"hazard-concrete\"}, \n",
      "{r: 108, g: 92, b: 77, name: \"iron-chest\"}, \n",
      "{r: 80, g: 102, b: 113, name: \"iron-ore\"}, \n",
      "{r: 133, g: 124, b: 57, name: \"landfill\"}, \n",
      "{r: 136, g: 89, b: 61, name: \"productivity-module\"}, \n",
      "{r: 158, g: 154, b: 152, name: \"small-lamp\"}, \n",
      "{r: 74, g: 74, b: 74, name: \"solid-fuel\"}, \n",
      "{r: 166, g: 152, b: 28, name: \"sulfur\"}, \n",
      "{r: 72, g: 112, b: 127, name: \"speed-module\"}, \n",
      "{r: 121, g: 102, b: 68, name: \"stone\"}, \n",
      "{r: 90, g: 80, b: 59, name: \"wall\"}, \n",
      "{r: 117, g: 118, b: 114, name: \"steel-plate\"}, \n",
      "{r: 119, g: 103, b: 101, name: \"steel-chest\"}, \n",
      "{r: 111, g: 112, b: 107, name: \"stone-brick\"}, \n",
      "{r: 130, g: 98, b: 46, name: \"wooden-chest\"}, \n",
      "{r: 104, g: 88, b: 63, name: \"underground-belt\"}, \n",
      "{r: 93, g: 69, b: 93, name: \"logistic-chest-active-provider\"}, \n",
      "{r: 113, g: 71, b: 59, name: \"logistic-chest-passive-provider\"}, \n",
      "{r: 73, g: 105, b: 69, name: \"logistic-chest-buffer\"}, \n",
      "{r: 77, g: 96, b: 96, name: \"logistic-chest-requester\"}, \n",
      "{r: 109, g: 97, b: 54, name: \"logistic-chest-storage\"}, \n"
     ]
    }
   ],
   "source": [
    "PATH = '/mnt/c/Program Files (x86)/Steam/steamapps/common/Factorio/data/base/graphics/icons'\n",
    "\n",
    "MATERIALS = [\n",
    "    'iron-plate',\n",
    "    'copper-plate',\n",
    "    'copper-ore',\n",
    "    'copper-cable',\n",
    "    'plastic-bar',\n",
    "    'assembling-machine-1',\n",
    "    'assembling-machine-2',\n",
    "    'assembling-machine-3',\n",
    "    'cliff-explosives',\n",
    "    'coal',\n",
    "    'concrete',\n",
    "    'effectivity-module',\n",
    "    'electronic-circuit',\n",
    "    'advanced-circuit',\n",
    "    'processing-unit',\n",
    "    'explosives',\n",
    "    'hazard-concrete',\n",
    "    'iron-chest',\n",
    "    'iron-ore',\n",
    "    'landfill',\n",
    "    'processing-unit',\n",
    "    'productivity-module',\n",
    "    'small-lamp',\n",
    "    'solid-fuel',\n",
    "    'sulfur',\n",
    "    'speed-module',\n",
    "    'stone',\n",
    "    'wall',\n",
    "    'steel-plate',\n",
    "    'steel-chest',\n",
    "    'stone-brick',\n",
    "    'wooden-chest',\n",
    "    'underground-belt',\n",
    "    'logistic-chest-active-provider',\n",
    "    'logistic-chest-passive-provider',\n",
    "    'logistic-chest-buffer',\n",
    "    'logistic-chest-requester',\n",
    "    'logistic-chest-storage',\n",
    "]\n",
    "COLORS = {}\n",
    "\n",
    "for name in MATERIALS:\n",
    "    img = Image.open(f\"{PATH}/{name}.png\").crop((0, 0, 64, 64)).convert(\"RGBA\")\n",
    "    COLORS[get_avg_color(img)] = name\n",
    "\n",
    "for (r, g, b), name in COLORS.items():\n",
    "    print(f'{{r: {r}, g: {g}, b: {b}, name: \"{name}\"}}, ')\n"
   ]
  },
  {
   "cell_type": "code",
   "execution_count": null,
   "metadata": {},
   "outputs": [],
   "source": [
    "def convert(image: Image, palette: list, W_ROUND=4, H=32):\n",
    "    width, height = image.size\n",
    "    width, height = (H * width) // (height * W_ROUND) * W_ROUND, H\n",
    "    image = image.resize((width, height))\n",
    "\n",
    "    data = [[None] * H for _ in range(width)]\n",
    "\n",
    "    for x in range(width):\n",
    "        for y in range(height):\n",
    "            c_orig = image.getpixel((x, y))\n",
    "            _, rgb = min((color_dist(c_orig, color), color) for color in palette)\n",
    "\n",
    "            image.putpixel((x, y), rgb)\n",
    "            data[x][y] = rgb\n",
    "\n",
    "    return image, data\n"
   ]
  },
  {
   "cell_type": "code",
   "execution_count": null,
   "metadata": {},
   "outputs": [],
   "source": [
    "cat = Image.open('../KonoSuba_characters.jpg')\n",
    "cat, mp = convert(cat, COLORS.keys())\n",
    "cat.resize((cat.width * 8, cat.height * 8))\n"
   ]
  },
  {
   "cell_type": "code",
   "execution_count": null,
   "metadata": {},
   "outputs": [],
   "source": [
    "cat = Image.open('KonoSuba_characters.jpg')\n",
    "cat.thumbnail((10**9, 32))\n",
    "\n",
    "cat.resize((cat.width * 8, cat.height * 8))\n"
   ]
  },
  {
   "cell_type": "code",
   "execution_count": null,
   "metadata": {},
   "outputs": [],
   "source": [
    "from futil import *\n",
    "import futil\n",
    "import importlib\n",
    "importlib.reload(futil)\n",
    "\n",
    "\n",
    "bl = Blueprint()\n",
    "\n",
    "bl.create_constant(0, 0)\n",
    "bl.create_decider(1, 0, 15)\n",
    "\n",
    "bl.add_connection(0, 0, Blueprint.CONN_CONSTANT, 1, 0, Blueprint.CONN_DECIDER_IN, 'green')\n",
    "bl.add_connection(1, 0, Blueprint.CONN_DECIDER_OUT, 1, 0, Blueprint.CONN_DECIDER_IN, 'green')\n",
    "\n",
    "bl.pr()\n"
   ]
  },
  {
   "cell_type": "code",
   "execution_count": null,
   "metadata": {},
   "outputs": [],
   "source": [
    "def generate_blueprint(data: list[list], palette: dict):\n",
    "    W = len(data)\n",
    "    assert W % 4 == 0 and all(len(col) == 32 for col in data)\n",
    "\n",
    "    bl = Blueprint()\n",
    "\n",
    "    for x, column in enumerate(data):\n",
    "        X = x // 4\n",
    "        C = [0 + 4 * (x % 4), 1 + 4 * (x % 4)]\n",
    "        D = 2 + 4 * (x % 4)\n",
    "\n",
    "        bl.create_constant(X, C[0])\n",
    "        bl.create_constant(X, C[1])\n",
    "        bl.create_decider (X, D, f_value=X + 1)\n",
    "\n",
    "        bl.add_connection(X, D, Blueprint.CONN_DECIDER_IN, X-1, D, Blueprint.CONN_DECIDER_IN, 'green', strict=False)\n",
    "        bl.add_connection(X, D, Blueprint.CONN_DECIDER_IN, X, D-4, Blueprint.CONN_DECIDER_IN, 'green', strict=False)\n",
    "        bl.add_connection(X, D, Blueprint.CONN_DECIDER_OUT, X-1, D, Blueprint.CONN_DECIDER_OUT, 'red', strict=False)\n",
    "\n",
    "        bl.add_connection(X, C[0], Blueprint.CONN_CONSTANT, X, C[1], Blueprint.CONN_CONSTANT, 'red')\n",
    "        bl.add_connection(X, C[1], Blueprint.CONN_CONSTANT, X, D, Blueprint.CONN_DECIDER_IN, 'red')\n",
    "\n",
    "        for y, rgb in enumerate(column):\n",
    "            item = palette[rgb]\n",
    "            bl.add_item(X, C[y % 2], item, (1 << y) * (1 if y < 31 else -1))\n",
    "\n",
    "    return bl\n"
   ]
  },
  {
   "cell_type": "code",
   "execution_count": 1,
   "metadata": {},
   "outputs": [
    {
     "data": {
      "text/plain": [
       "[{'entity_number': 1, 'name': 'substation', 'position': {'x': 221, 'y': 275}}]"
      ]
     },
     "execution_count": 1,
     "metadata": {},
     "output_type": "execute_result"
    }
   ],
   "source": [
    "from futil import *\n",
    "\n",
    "S='0eNptjrEOwjAMRP/l5ixNgJT8CkKoBQtZatyqcRFVlX8nDQsDk33W3Ttv6IeFpplFETbwfZSEcNmQ+CndsN90nQgBrBRhIF3cVVr6pJ3yKMgGLA96IzT5akCirExfShXrTZbY01wM//IG05i4rqWtYKwtvrVMf8w7sTaHn0cNXjSnGrBtc/Bn633rWudOOX8AS/BE9A=='\n",
    "Blueprint(string=S).entities\n"
   ]
  }
 ],
 "metadata": {
  "kernelspec": {
   "display_name": "Python 3",
   "language": "python",
   "name": "python3"
  },
  "language_info": {
   "codemirror_mode": {
    "name": "ipython",
    "version": 3
   },
   "file_extension": ".py",
   "mimetype": "text/x-python",
   "name": "python",
   "nbconvert_exporter": "python",
   "pygments_lexer": "ipython3",
   "version": "3.10.6"
  }
 },
 "nbformat": 4,
 "nbformat_minor": 2
}
