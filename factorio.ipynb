{
 "cells": [
  {
   "cell_type": "code",
   "execution_count": null,
   "metadata": {},
   "outputs": [],
   "source": [
    "from py_factorio_blueprints.util import *\n",
    "from PIL import Image, ImagePalette\n",
    "from collections import defaultdict\n"
   ]
  },
  {
   "cell_type": "code",
   "execution_count": null,
   "metadata": {},
   "outputs": [],
   "source": [
    "def get_avg_color(img):\n",
    "    sr, sg, sb, sa = 0, 0, 0, 0\n",
    "    # print([x for x in img.getdata()])\n",
    "    for r, g, b, a, in img.getdata():\n",
    "        sr += r * a;\n",
    "        sg += g * a\n",
    "        sb += b * a\n",
    "        sa += a\n",
    "    return sr // sa, sg // sa, sb // sa\n",
    "\n",
    "def color_dist(c1, c2):\n",
    "    return (c1[0] - c2[0]) ** 2 + (c1[1] - c2[1]) ** 2 + (c1[2] - c2[2]) ** 2\n"
   ]
  },
  {
   "cell_type": "code",
   "execution_count": null,
   "metadata": {},
   "outputs": [],
   "source": [
    "PATH = '/mnt/c/Program Files (x86)/Steam/steamapps/common/Factorio/data/base/graphics/icons'\n",
    "\n",
    "MATERIALS = [\n",
    "    'iron-plate',\n",
    "    'copper-plate',\n",
    "    'plastic-bar',\n",
    "    'assembling-machine-1',\n",
    "    'assembling-machine-2',\n",
    "    'blueprint',\n",
    "    'cliff-explosives',\n",
    "    'coal',\n",
    "    'concrete',\n",
    "    'deconstruction-planner',\n",
    "    'effectivity-module',\n",
    "    'electronic-circuit',\n",
    "    'explosives',\n",
    "    'hazard-concrete',\n",
    "    'iron-chest',\n",
    "    'iron-ore',\n",
    "    'landfill',\n",
    "    'processing-unit',\n",
    "    'productivity-module',\n",
    "    'small-lamp',\n",
    "    'solid-fuel',\n",
    "    'speed-module',\n",
    "    'stone',\n",
    "    'steel-plate',\n",
    "    'steel-chest',\n",
    "    'stone-brick',\n",
    "    'upgrade-planner',\n",
    "    'wooden-chest'\n",
    "]\n",
    "COLORS = {}\n",
    "\n",
    "for name in MATERIALS:\n",
    "    img = Image.open(f\"{PATH}/{name}.png\").crop((0, 0, 64, 64)).convert(\"RGBA\")\n",
    "    COLORS[get_avg_color(img)] = name\n",
    "\n",
    "COLORS\n"
   ]
  },
  {
   "cell_type": "code",
   "execution_count": null,
   "metadata": {},
   "outputs": [],
   "source": [
    "def convert(image: Image, palette: list, W_ROUND=4, H=32):\n",
    "    width, height = image.size\n",
    "    width, height = (H * width) // (height * W_ROUND) * W_ROUND, H\n",
    "    image = image.resize((width, height))\n",
    "\n",
    "    data = [[None] * H for _ in range(width)]\n",
    "\n",
    "    for x in range(width):\n",
    "        for y in range(height):\n",
    "            c_orig = image.getpixel((x, y))\n",
    "            _, rgb = min((color_dist(c_orig, color), color) for color in palette)\n",
    "\n",
    "            image.putpixel((x, y), rgb)\n",
    "            data[x][y] = rgb\n",
    "\n",
    "    return image, data\n"
   ]
  },
  {
   "cell_type": "code",
   "execution_count": null,
   "metadata": {},
   "outputs": [],
   "source": [
    "cat = Image.open('cat.jpg')\n",
    "cat, mp = convert(cat, COLORS.keys())\n",
    "# cat.resize((cat.width * 8, cat.height * 8))\n"
   ]
  },
  {
   "cell_type": "code",
   "execution_count": null,
   "metadata": {},
   "outputs": [],
   "source": [
    "cat = Image.open('cat.jpg')\n",
    "cat.thumbnail((10**9, 32))\n",
    "\n",
    "cat.resize((cat.width * 8, cat.height * 8))\n"
   ]
  },
  {
   "cell_type": "code",
   "execution_count": null,
   "metadata": {},
   "outputs": [],
   "source": [
    "from futil import *\n",
    "import futil\n",
    "import importlib\n",
    "importlib.reload(futil)\n",
    "\n",
    "\n",
    "bl = Blueprint()\n",
    "\n",
    "bl.create_constant(0, 0)\n",
    "bl.create_decider(1, 0, 15)\n",
    "\n",
    "bl.add_connection(0, 0, Blueprint.CONN_CONSTANT, 1, 0, Blueprint.CONN_DECIDER_IN, 'green')\n",
    "bl.add_connection(1, 0, Blueprint.CONN_DECIDER_OUT, 1, 0, Blueprint.CONN_DECIDER_IN, 'green')\n",
    "\n",
    "bl.pr()\n"
   ]
  },
  {
   "cell_type": "code",
   "execution_count": null,
   "metadata": {},
   "outputs": [],
   "source": [
    "def generate_blueprint(data: list[list], palette: dict):\n",
    "    W = len(data)\n",
    "    assert W % 4 == 0 and all(len(col) == 32 for col in data)\n",
    "\n",
    "    bl = Blueprint()\n",
    "\n",
    "    for x, column in enumerate(data):\n",
    "        X = x // 4\n",
    "        C = [0 + 4 * (x % 4), 1 + 4 * (x % 4)]\n",
    "        D = 2 + 4 * (x % 4)\n",
    "\n",
    "        bl.create_constant(X, C[0])\n",
    "        bl.create_constant(X, C[1])\n",
    "        bl.create_decider (X, D, f_value=X)\n",
    "\n",
    "        bl.add_connection(X, D, Blueprint.CONN_DECIDER_IN, X-1, D, Blueprint.CONN_DECIDER_IN, 'green', strict=False)\n",
    "        bl.add_connection(X, D, Blueprint.CONN_DECIDER_IN, X, D-4, Blueprint.CONN_DECIDER_IN, 'green', strict=False)\n",
    "        bl.add_connection(X, D, Blueprint.CONN_DECIDER_OUT, X-1, D, Blueprint.CONN_DECIDER_OUT, 'red', strict=False)\n",
    "\n",
    "        bl.add_connection(X, C[0], Blueprint.CONN_CONSTANT, X, C[1], Blueprint.CONN_CONSTANT, 'red')\n",
    "        bl.add_connection(X, C[1], Blueprint.CONN_CONSTANT, X, D, Blueprint.CONN_DECIDER_IN, 'red')\n",
    "\n",
    "        for y, rgb in enumerate(column):\n",
    "            item = palette[rgb]\n",
    "            bl.add_item(X, C[y % 2], item, 1 << y)\n",
    "\n",
    "    return bl\n"
   ]
  },
  {
   "cell_type": "code",
   "execution_count": null,
   "metadata": {},
   "outputs": [],
   "source": [
    "Blueprint(string='0eNqtkdsKwjAQRP9lnqPQi7bmV0Skl0UW7KYkqVhK/t2kfREEQfAlZMLsmWGzoL1PNFoWD72AOyMO+rzA8U2ae3rz80jQYE8DFKQZkko+34jfdWZoWRpvLIICS09P6CxcFEg8e6YNt4r5KtPQko2GryCF0bg4ayTlJ97xsD8ozNBlvMScni11myFXiSGbdGkgS4el/j2Yo8rDJYSgPsrkv5Yp/1AmW8vENa171W/foPAg6zZcnZXVKa+quqiL4hjCC8Brj/o=')._root\n"
   ]
  },
  {
   "cell_type": "code",
   "execution_count": null,
   "metadata": {},
   "outputs": [],
   "source": [
    "generate_blueprint(mp, COLORS)\n"
   ]
  }
 ],
 "metadata": {
  "kernelspec": {
   "display_name": "Python 3",
   "language": "python",
   "name": "python3"
  },
  "language_info": {
   "codemirror_mode": {
    "name": "ipython",
    "version": 3
   },
   "file_extension": ".py",
   "mimetype": "text/x-python",
   "name": "python",
   "nbconvert_exporter": "python",
   "pygments_lexer": "ipython3",
   "version": "3.10.6"
  }
 },
 "nbformat": 4,
 "nbformat_minor": 2
}
