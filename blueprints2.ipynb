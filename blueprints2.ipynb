{
 "cells": [
  {
   "cell_type": "code",
   "execution_count": null,
   "metadata": {},
   "outputs": [],
   "source": [
    "import json\n",
    "import zlib\n",
    "import base64\n",
    "\n",
    "def decode(string):\n",
    "    return json.loads(zlib.decompress(base64.b64decode(string[1:])).decode('UTF-8'))\n",
    "\n",
    "def encode(obj):\n",
    "    return '0' + base64.b64encode(zlib.compress(bytes(json.dumps(obj), 'UTF-8'))).decode('UTF-8')\n",
    "\n",
    "def encodePr(obj):\n",
    "    print(encode(obj))\n",
    "\n",
    "def printEntities(ent):\n",
    "    assert isinstance(ent, list)\n",
    "    print(encode({'blueprint': {'entities': ent}}))\n"
   ]
  },
  {
   "cell_type": "code",
   "execution_count": 66,
   "metadata": {},
   "outputs": [
    {
     "data": {
      "text/plain": [
       "[{'entity_number': 1,\n",
       "  'name': 'constant-combinator',\n",
       "  'position': {'x': 161.5, 'y': 26.5},\n",
       "  'direction': 4,\n",
       "  'control_behavior': {'filters': [{'signal': {'type': 'item',\n",
       "      'name': 'transport-belt'},\n",
       "     'count': 7,\n",
       "     'index': 2}]}}]"
      ]
     },
     "execution_count": 66,
     "metadata": {},
     "output_type": "execute_result"
    }
   ],
   "source": [
    "S='0eNrtWsuumzAQ/RevyRU2zyB125+oKpSAb67VxESOiRpF/HtNqNJcg59dtEjeRIKYMTPnMQPJHeyPPT4zQjmo7oA0Hb2A6tsdXMiB7o7jOX47Y1ABwvEJRIDuTuNRixvSYrZputOe0B3vGBgiQGiLf4IKDt8jgCknnOAp2uPgVtP+tMdMLHjGGffjO8pfA0Xg3F3EtR0dtx/j5cVbFoEbqBB8y8Q+LWG4mRagaIzBWXes9/hjdyUigLjqnRw5ZopUroTxXpx53sUPtsEUs8Ntg8Y0mq4fywFfE3qcpnTa9jIGg+MHw+1rgkQc5WLxMESzpJFr0uWKki4VSSeuSW9XlDSMFVmnjlkX8ZqyRoqsM5076ESdfk45XU75d9BafNeS512+E3bhtbkE04rN1yn/CZRHCcQ9nnfscY8V+CIu6Hp+7h1C4itmN/5B6GGKfb7VjwLX76w71YSKYKDirMeDi4dEn2sudNQQ1vSET8ejwx4YxlS+spgtFLsixTbSYhWwubddoxXQWSp1Ni/gUk0KR7KXgezq3iGRPbUl+wyrz4G2LlrIZC1oY6mkUno3+RVIRa5JYSeVraNUtkEqmolD0krm3RikQPCvGoc+mEotMPYeD1cgl8RsR4tFgW56+TM8Br0szKoSM3NbvTg1D8vuAJH3g8EK+J5aWMpiVRLfB4f8nxE+/k8Jb5iIYGFL/4UhTMN/ebVSAKnv2Bygdm3opTXUiSFS5kSFxDAbZJZUyXzHxkAVYy+TINn6u4KxvTq5hj6akiq578QUqDLDBOoRRrE1V9xsw9YWCt9hoQzTsaPxI2iNdemEdWmJdek7LQSsXZ0bIWusC+duouOC6VWC7aOV91umwBWzc0tcSfx9wdhNnHxDH03FFRT7zguBKzNMcgPC1i/zHX3D0hcQ9JwXkjjMhkbnV2G50E00WMqrlVgiz3kgYNlaTGwqLKFzN9BhDQ0enlhyIfHs94ELrYXzWuva6PZOutdHU3Ih9ezngQtzTKyf7x11v6hrEfvxv8Lq5W+IERBpXabfOEqYFltUFGVSJkk+DL8AjTbt2A=='\n",
    "S='0eNqNkNFqwzAMRf9Fz24hSZtk/pVRip1qm8CRg6OUhuB/r5VC2dPYo8S95+pqAx8WnBKxgN2Ahsgz2M8NZvpmF3Qn64RggQRHMMBu1El14lgOQxw9sZOYIBsgvuEDbJUvBpCFhPCF24f1ysvoMRXBnyADU5yLN7LmK6+tjmcDK9i6PZ5Lzo0SDi/ByShDUgxXjz/uTgVQXF8UBNO/ukhyPE8xycFjEK0xxEX/0b0L1fmStdNutL9+ZuBeUvZD6r46dR911/VN3zRtzk9ga3UG'\n",
    "X = decode(S)\n",
    "X['blueprint']['entities']\n"
   ]
  },
  {
   "cell_type": "code",
   "execution_count": 67,
   "metadata": {},
   "outputs": [],
   "source": [
    "class Blueprint:\n",
    "    CONN_DECIDER_IN = '1'\n",
    "    CONN_DECIDER_OUT = '2'\n",
    "    CONN_CONSTANT = '1'\n",
    "\n",
    "    def __init__(self, string=None):\n",
    "        if string:\n",
    "            self._root = decode(string)\n",
    "        else:\n",
    "            self._root = {'blueprint': {'entities': []}}\n",
    "\n",
    "    @property\n",
    "    def entities(self) -> list[dict]:\n",
    "        return self._root['blueprint']['entities']\n",
    "\n",
    "    def pr(self) -> None:\n",
    "        string = encode(self._root)\n",
    "        print(string)\n",
    "\n",
    "    def _at(self, x, y) -> dict:\n",
    "        found = [entity for entity in self.entities if abs(entity['position']['x'] - x) <= 0.5 and abs(entity['position']['y'] - y) <= 0.5]\n",
    "        assert len(found) == 1\n",
    "        return found[0]\n",
    "\n",
    "    def create_constant(self, x, y):\n",
    "        constant = {\n",
    "            'entity_number': 1 + len(self.entities),\n",
    "            'name': 'constant-combinator',\n",
    "            'position': {'x': x + 0.5, 'y': y + 0.5},\n",
    "            'direction': 2\n",
    "        }\n",
    "        self.entities.append(constant)\n",
    "\n",
    "    # (x, y) is an upper part of decider\n",
    "    def create_decider(self, x, y, f_value):\n",
    "        decider = {\n",
    "            'entity_number': 1 + len(self.entities),\n",
    "            'name': 'decider-combinator',\n",
    "            'position': {'x': x + 0.5, 'y': y + 1},\n",
    "            'direction': 4,\n",
    "            'control_behavior': {'decider_conditions': {'first_signal': {'type': 'virtual',\n",
    "                'name': 'signal-F'},\n",
    "                'constant': f_value,\n",
    "                'comparator': '=',\n",
    "                'output_signal': {'type': 'virtual', 'name': 'signal-everything'},\n",
    "                'copy_count_from_input': True}}\n",
    "        }\n",
    "        self.entities.append(decider)\n",
    "\n",
    "    def add_item(self, x, y, name, count):\n",
    "        entity: dict = self._at(x + 0.5, y + 0.5)\n",
    "        assert entity['name'] == 'constant-combinator'\n",
    "        filters: list = entity.setdefault('control_behavior', {}).setdefault('filters', [])\n",
    "        index = 1 + len(filters)\n",
    "        assert index <= 20\n",
    "\n",
    "        item = {\n",
    "            'signal': {\n",
    "                'type': 'item',\n",
    "                'name': name\n",
    "            },\n",
    "            'count': count,\n",
    "            'index': index\n",
    "        }\n",
    "        filters.append(item)\n",
    "\n",
    "    def add_connection(self, x, y, xy_canal, s, t, st_canal, color):\n",
    "        entity_1: dict = self._at(x + 0.5, y + 0.5)\n",
    "        entity_2: dict = self._at(s + 0.5, t + 0.5)\n",
    "        connection1: list = entity_1.setdefault('connections', {}).setdefault('xy_canal', {}).setdefault(color, [])\n",
    "        connection2: list = entity_2.setdefault('connections', {}).setdefault('st_canal', {}).setdefault(color, [])\n",
    "\n",
    "        connection1.append({'entity_id': entity_2['entity_number'], 'circuit_id': int(st_canal)})\n",
    "        connection2.append({'entity_id': entity_1['entity_number'], 'circuit_id': int(xy_canal)})\n"
   ]
  }
 ],
 "metadata": {
  "kernelspec": {
   "display_name": "Python 3",
   "language": "python",
   "name": "python3"
  },
  "language_info": {
   "codemirror_mode": {
    "name": "ipython",
    "version": 3
   },
   "file_extension": ".py",
   "mimetype": "text/x-python",
   "name": "python",
   "nbconvert_exporter": "python",
   "pygments_lexer": "ipython3",
   "version": "3.10.6"
  }
 },
 "nbformat": 4,
 "nbformat_minor": 2
}
